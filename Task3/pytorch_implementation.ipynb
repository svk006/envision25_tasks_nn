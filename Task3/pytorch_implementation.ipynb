{
 "cells": [
  {
   "cell_type": "markdown",
   "id": "bdde3cdb-1855-4fce-9731-b2683fb6ab7f",
   "metadata": {},
   "source": [
    "# Artificial Neural Network in Pytorch"
   ]
  },
  {
   "cell_type": "code",
   "execution_count": 1,
   "id": "2b382b52-51ad-40e2-8ad6-450fa9158bbb",
   "metadata": {},
   "outputs": [],
   "source": [
    "#Importing libraries\n",
    "import torch\n",
    "import torch.nn as nn\n",
    "import torch.optim as optim\n",
    "import pandas as pd\n",
    "import numpy as np\n",
    "from sklearn.preprocessing import StandardScaler, LabelEncoder\n",
    "from sklearn.model_selection import train_test_split\n",
    "from sklearn.metrics import accuracy_score"
   ]
  },
  {
   "cell_type": "code",
   "execution_count": 2,
   "id": "4939fe32-17ac-4748-826c-54ec997abf03",
   "metadata": {},
   "outputs": [],
   "source": [
    "# Load dataset\n",
    "df = pd.read_csv(\"Churn_Modelling.csv\")\n",
    "\n",
    "# Select relevant features (excluding row number, customer ID, and surname)\n",
    "X = df.iloc[:, 3:13].values\n",
    "y = df.iloc[:, 13].values  # Target variable\n",
    "\n",
    "# Encode categorical variables (Gender and Geography)\n",
    "le = LabelEncoder()\n",
    "X[:, 2] = le.fit_transform(X[:, 2])  # Encode Gender\n",
    "\n",
    "# One-hot encode Geography\n",
    "from sklearn.preprocessing import OneHotEncoder\n",
    "from sklearn.compose import ColumnTransformer\n",
    "\n",
    "ct = ColumnTransformer(transformers=[('encoder', OneHotEncoder(drop='first'), [1])], remainder='passthrough')\n",
    "X = np.array(ct.fit_transform(X))\n",
    "\n",
    "# Split into train and test sets\n",
    "X_train, X_test, y_train, y_test = train_test_split(X, y, test_size=0.2, random_state=42)\n",
    "\n",
    "X_train = X_train.astype(np.float32)\n",
    "X_test = X_test.astype(np.float32)\n",
    "\n",
    "\n",
    "# Convert data to tensors\n",
    "X_train_tensor = torch.tensor(X_train, dtype=torch.float32)\n",
    "X_test_tensor = torch.tensor(X_test, dtype=torch.float32)\n",
    "y_train_tensor = torch.tensor(y_train, dtype=torch.float32).view(-1, 1)\n",
    "y_test_tensor = torch.tensor(y_test, dtype=torch.float32).view(-1, 1)\n",
    "\n",
    "# Scale the features\n",
    "scaler = StandardScaler()\n",
    "X_train_tensor = torch.tensor(scaler.fit_transform(X_train), dtype=torch.float32)\n",
    "X_test_tensor = torch.tensor(scaler.transform(X_test), dtype=torch.float32)\n"
   ]
  },
  {
   "cell_type": "code",
   "execution_count": 3,
   "id": "f5b093a4-a8c3-4bcd-9c2b-32da79eb113b",
   "metadata": {},
   "outputs": [],
   "source": [
    "# Define the Neural Network\n",
    "class ChurnModel(nn.Module):\n",
    "    def __init__(self):\n",
    "        super(ChurnModel, self).__init__()\n",
    "        self.fc1 = nn.Linear(X_train.shape[1], 6)  # First hidden layer\n",
    "        self.fc2 = nn.Linear(6, 6)  # Second hidden layer\n",
    "        self.fc3 = nn.Linear(6, 1)  # Output layer\n",
    "        self.relu = nn.ReLU()\n",
    "        self.sigmoid = nn.Sigmoid()  # Binary classification\n",
    "\n",
    "    def forward(self, x):\n",
    "        x = self.relu(self.fc1(x))\n",
    "        x = self.relu(self.fc2(x))\n",
    "        x = self.sigmoid(self.fc3(x))\n",
    "        return x\n",
    "\n",
    "# Create model instance\n",
    "model = ChurnModel()\n"
   ]
  },
  {
   "cell_type": "code",
   "execution_count": 4,
   "id": "dce75c9f-8fc4-4f23-b5bf-70164de07400",
   "metadata": {},
   "outputs": [],
   "source": [
    "criterion = nn.BCELoss()  # Binary Cross-Entropy for classification\n",
    "optimizer = optim.Adam(model.parameters(), lr=0.0001)  # Adam optimizer\n"
   ]
  },
  {
   "cell_type": "code",
   "execution_count": 5,
   "id": "fbc7ff9c-d4fe-49b6-942a-20dc001b8aa2",
   "metadata": {},
   "outputs": [
    {
     "name": "stdout",
     "output_type": "stream",
     "text": [
      "Epoch [10/100], Loss: 0.5612\n",
      "Epoch [20/100], Loss: 0.4619\n",
      "Epoch [30/100], Loss: 0.3571\n",
      "Epoch [40/100], Loss: 0.2990\n",
      "Epoch [50/100], Loss: 0.4514\n",
      "Epoch [60/100], Loss: 0.2571\n",
      "Epoch [70/100], Loss: 0.4682\n",
      "Epoch [80/100], Loss: 0.3213\n",
      "Epoch [90/100], Loss: 0.3075\n",
      "Epoch [100/100], Loss: 0.5348\n"
     ]
    }
   ],
   "source": [
    "num_epochs = 100\n",
    "batch_size = 32\n",
    "dataset = torch.utils.data.TensorDataset(X_train_tensor, y_train_tensor)\n",
    "dataloader = torch.utils.data.DataLoader(dataset, batch_size=batch_size, shuffle=True)\n",
    "\n",
    "for epoch in range(num_epochs):\n",
    "    for batch_X, batch_y in dataloader:\n",
    "        optimizer.zero_grad()  # Reset gradients\n",
    "        y_pred = model(batch_X)  # Forward pass\n",
    "        loss = criterion(y_pred, batch_y)  # Compute loss\n",
    "        loss.backward()  # Backpropagation\n",
    "        optimizer.step()  # Update weights\n",
    "\n",
    "    if (epoch+1) % 10 == 0:\n",
    "        print(f\"Epoch [{epoch+1}/{num_epochs}], Loss: {loss.item():.4f}\")\n"
   ]
  },
  {
   "cell_type": "code",
   "execution_count": 6,
   "id": "bba47f8f-8b5c-4045-9759-3c16ab6f0af1",
   "metadata": {},
   "outputs": [
    {
     "name": "stdout",
     "output_type": "stream",
     "text": [
      "Test Accuracy: 0.8265\n"
     ]
    }
   ],
   "source": [
    "# Make predictions\n",
    "with torch.no_grad():\n",
    "    y_pred_prob = model(X_test_tensor)  # Probability predictions\n",
    "    y_pred = (y_pred_prob > 0.5).float()  # Convert to binary (0 or 1)\n",
    "\n",
    "# Compute accuracy\n",
    "accuracy = accuracy_score(y_test, y_pred.numpy())\n",
    "print(f\"Test Accuracy: {accuracy:.4f}\")\n"
   ]
  },
  {
   "cell_type": "code",
   "execution_count": null,
   "id": "15770a62-4c19-40b1-beec-fffd33cc1b75",
   "metadata": {},
   "outputs": [],
   "source": []
  }
 ],
 "metadata": {
  "kernelspec": {
   "display_name": "Python 3 (ipykernel)",
   "language": "python",
   "name": "python3"
  },
  "language_info": {
   "codemirror_mode": {
    "name": "ipython",
    "version": 3
   },
   "file_extension": ".py",
   "mimetype": "text/x-python",
   "name": "python",
   "nbconvert_exporter": "python",
   "pygments_lexer": "ipython3",
   "version": "3.12.6"
  }
 },
 "nbformat": 4,
 "nbformat_minor": 5
}
